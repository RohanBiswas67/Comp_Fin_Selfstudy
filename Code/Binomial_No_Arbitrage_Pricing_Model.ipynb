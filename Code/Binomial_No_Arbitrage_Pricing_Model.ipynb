{
 "cells": [
  {
   "cell_type": "markdown",
   "id": "f822e430-9c7c-4465-b6b7-9c2707013a08",
   "metadata": {
    "jp-MarkdownHeadingCollapsed": true,
    "tags": []
   },
   "source": [
    "## Example 1.1.1 ( Steve Shreve )"
   ]
  },
  {
   "cell_type": "markdown",
   "id": "81a27b84-3ed7-4c2f-98e6-cda7e7b21f73",
   "metadata": {
    "jp-MarkdownHeadingCollapsed": true,
    "tags": []
   },
   "source": [
    "### Introduction\n",
    "\n",
    "This section demonstrates how to price a European call option using a replicating portfolio\n",
    "in a one-period binomial model. We illustrate :\n",
    "\n",
    "- Building a replicating portfolio using stock and money market\n",
    "- Computing the no-arbitrage price of the option\n",
    "- Illustrating arbitrage opportunities if the price deviates"
   ]
  },
  {
   "cell_type": "markdown",
   "id": "f36f9461-933c-46a7-aef8-dacaa060177f",
   "metadata": {
    "jp-MarkdownHeadingCollapsed": true,
    "tags": []
   },
   "source": [
    "### Model Setup\n",
    "\n",
    "We consider a market with:\n",
    "- One risky asset (stock)\n",
    "- One risk-free asset (money market)\n",
    "- A European call option with strike price $K$\n",
    "\n",
    "We assume:\n",
    "- Initial stock price: $S_0 = 4$\n",
    "- Up factor: $u = 2$\n",
    "- Down factor: $d = 0.5$\n",
    "- Interest rate: $r = 1$ (i.e., 100%)\n",
    "- European call option strike: $K = 5$"
   ]
  },
  {
   "cell_type": "code",
   "execution_count": 5,
   "id": "55893e2c-8906-4a23-b4a9-68214d5134ab",
   "metadata": {
    "tags": []
   },
   "outputs": [],
   "source": [
    "S0 = 4        # Stock price at time 0\n",
    "u = 2         # Up factor\n",
    "d = 0.5       # Down factor\n",
    "r = 1         # Interest rate (100%)\n",
    "K = 5         # Strike price"
   ]
  },
  {
   "cell_type": "markdown",
   "id": "bf000569-66d0-4c6f-8937-0880a9899263",
   "metadata": {
    "jp-MarkdownHeadingCollapsed": true,
    "tags": []
   },
   "source": [
    "### Stock Price Evolution\n",
    "\n",
    "We compute:\n",
    "- $S_1(H) = S_0 \\cdot u = 8$\n",
    "- $S_1(T) = S_0 \\cdot d = 2$"
   ]
  },
  {
   "cell_type": "code",
   "execution_count": 6,
   "id": "e6e9c83e-aa1e-4532-8abf-df2bffe1f1ac",
   "metadata": {
    "tags": []
   },
   "outputs": [],
   "source": [
    "S1_H = S0 * u\n",
    "S1_T = S0 * d"
   ]
  },
  {
   "cell_type": "markdown",
   "id": "03807fd0-5d59-4a7c-9a14-528a9d26b1ab",
   "metadata": {
    "jp-MarkdownHeadingCollapsed": true,
    "tags": []
   },
   "source": [
    "### Solving Replicating Equations\n",
    "\n",
    "To replicate the option, we solve for $\\Delta_0$ (shares of stock) and $X_0$ (initial portfolio value) such that:\n",
    "\n",
    "\\\n",
    "\\begin{aligned}\n",
    "\\Delta_0 \\cdot S_1(H) + (1 + r)\\left(X_0 - \\Delta_0 \\cdot S_0\\right) &= \\max(S_1(H) - K, 0) = 3 \\\\\n",
    "\\Delta_0 \\cdot S_1(T) + (1 + r)\\left(X_0 - \\Delta_0 \\cdot S_0\\right) &= \\max(S_1(T) - K, 0) = 0\n",
    "\\end{aligned}\n",
    "\n",
    "\n",
    "This gives a system of two equations in two unknowns."
   ]
  },
  {
   "cell_type": "code",
   "execution_count": 7,
   "id": "2e8c673e-6a03-4b5e-ae78-8225da948cb9",
   "metadata": {
    "tags": []
   },
   "outputs": [],
   "source": [
    "from sympy import symbols, Eq, solve\n",
    "\n",
    "delta, X = symbols('delta X')\n",
    "eq1 = Eq(delta * S1_H + (1 + r) * (X - delta * S0), max(S1_H - K, 0))  # = 3\n",
    "eq2 = Eq(delta * S1_T + (1 + r) * (X - delta * S0), max(S1_T - K, 0))  # = 0\n",
    "\n",
    "solution = solve((eq1, eq2), (delta, X))\n",
    "delta_0 = float(solution[delta])\n",
    "X0 = float(solution[X])"
   ]
  },
  {
   "cell_type": "markdown",
   "id": "a2c4cca5-e721-4a02-b50e-9d5240fe09ef",
   "metadata": {},
   "source": [
    "### Portfolio Valuation\n",
    "\n",
    "Compute:\n",
    "- Initial cash: $\\text{cash}_0 = X_0 - \\Delta_0\\cdot S_0$\n",
    "- Final cash: $\\text{cash}_1 = (1 + r) \\cdot \\text{cash}_0$\n",
    "- Value at $t=1$:\n",
    "  - $X_1(H) = \\Delta_0 \\cdot S_1(H) + \\text{cash}_1$\n",
    "  - $X_1(T) = \\Delta_0 \\cdot S_1(T) + \\text{cash}_1$"
   ]
  },
  {
   "cell_type": "code",
   "execution_count": 8,
   "id": "8e114c7a-05ed-4be7-ac3b-d7194fff9019",
   "metadata": {
    "tags": []
   },
   "outputs": [],
   "source": [
    "cash_0 = X0 - delta_0 * S0\n",
    "cash_1 = (1 + r) * cash_0\n",
    "\n",
    "X1_H = delta_0 * S1_H + cash_1\n",
    "X1_T = delta_0 * S1_T + cash_1"
   ]
  },
  {
   "cell_type": "markdown",
   "id": "ed60c978-fb22-47ac-9e91-73968c4997e1",
   "metadata": {},
   "source": [
    "### Option Payoffs\n",
    "\n",
    "The European call option pays:\n",
    "- $\\max(S_1(H) - K, 0) = 3$\n",
    "- $\\max(S_1(T) - K, 0) = 0$"
   ]
  },
  {
   "cell_type": "code",
   "execution_count": 9,
   "id": "d6cd4db1-7c78-43e6-83f1-6da2544dd5a7",
   "metadata": {
    "tags": []
   },
   "outputs": [],
   "source": [
    "option_H = max(S1_H - K, 0)\n",
    "option_T = max(S1_T - K, 0)"
   ]
  },
  {
   "cell_type": "markdown",
   "id": "1ba4aad6-e4be-46d1-b1c9-7129d883d288",
   "metadata": {},
   "source": [
    "### Arbitrage Analysis\n",
    "\n",
    "If market price ≠ $X_0$, arbitrage is possible:\n",
    "\n",
    "- Sell at $X_0 + 0.01$: invest extra and replicate\n",
    "- Buy at $X_0 - 0.01$: short-sell stock, use surplus to profit"
   ]
  },
  {
   "cell_type": "code",
   "execution_count": 10,
   "id": "145ffd97-cc95-4118-9b93-24e333187321",
   "metadata": {
    "tags": []
   },
   "outputs": [],
   "source": [
    "sell_price = X0 + 0.01\n",
    "arbitrage_profit_seller = (1 + r) * (sell_price - X0)\n",
    "\n",
    "buy_price = X0 - 0.01\n",
    "short_sale_income = delta_0 * S0\n",
    "surplus = short_sale_income - buy_price - abs(cash_0)\n",
    "arbitrage_profit_buyer = (1 + r) * surplus"
   ]
  },
  {
   "cell_type": "markdown",
   "id": "c09285d2-a73a-4b13-a574-d1b5c8444138",
   "metadata": {
    "jp-MarkdownHeadingCollapsed": true,
    "tags": []
   },
   "source": [
    "### Final Output"
   ]
  },
  {
   "cell_type": "code",
   "execution_count": 13,
   "id": "37bc48fa-8d9d-4e83-9591-29e225c9f67b",
   "metadata": {
    "tags": []
   },
   "outputs": [
    {
     "name": "stdout",
     "output_type": "stream",
     "text": [
      "Stock price S0 = 4, u = 2, d = 0.5, r = 1\n",
      "Strike price K = 5\n",
      "\n",
      "Possible prices: S1(H) = 8, S1(T) = 2.0\n",
      "\n",
      " Replicating Portfolio:\n",
      "  delta_0 = 0.5000 shares\n",
      "  Initial value X0 = 1.5000\n",
      "  Initial cash = -0.5000\n",
      "  Final cash = -1.0000\n",
      "  Portfolio value at H = 3.0000\n",
      "  Portfolio value at T = 0.0000\n",
      "\n",
      " Option Payoff:\n",
      "  Payoff at H = 3\n",
      "  Payoff at T = 0\n",
      "\n",
      " Arbitrage:\n",
      "  Sell for 1.51 → Profit: 0.0200\n",
      "  Buy for 1.49 → Profit: 0.0200\n"
     ]
    }
   ],
   "source": [
    "# Final Output\n",
    "print(f\"Stock price S0 = {S0}, u = {u}, d = {d}, r = {r}\")\n",
    "print(f\"Strike price K = {K}\\n\")\n",
    "print(f\"Possible prices: S1(H) = {S1_H}, S1(T) = {S1_T}\\n\")\n",
    "\n",
    "print(\" Replicating Portfolio:\")\n",
    "print(f\"  delta_0 = {delta_0:.4f} shares\")\n",
    "print(f\"  Initial value X0 = {X0:.4f}\")\n",
    "print(f\"  Initial cash = {cash_0:.4f}\")\n",
    "print(f\"  Final cash = {cash_1:.4f}\")\n",
    "print(f\"  Portfolio value at H = {X1_H:.4f}\")\n",
    "print(f\"  Portfolio value at T = {X1_T:.4f}\\n\")\n",
    "\n",
    "print(\" Option Payoff:\")\n",
    "print(f\"  Payoff at H = {option_H}\")\n",
    "print(f\"  Payoff at T = {option_T}\\n\")\n",
    "\n",
    "print(\" Arbitrage:\")\n",
    "print(f\"  Sell for {sell_price:.2f} → Profit: {arbitrage_profit_seller:.4f}\")\n",
    "print(f\"  Buy for {buy_price:.2f} → Profit: {arbitrage_profit_buyer:.4f}\")"
   ]
  },
  {
   "cell_type": "code",
   "execution_count": 14,
   "id": "5b934767-8eac-4b66-94dd-537140cc818f",
   "metadata": {
    "tags": []
   },
   "outputs": [
    {
     "name": "stdout",
     "output_type": "stream",
     "text": [
      "\n",
      " Replication successful. No-arbitrage price = 1.50\n"
     ]
    }
   ],
   "source": [
    "#Replication check\n",
    "assert abs(X1_H - option_H) < 1e-6\n",
    "assert abs(X1_T - option_T) < 1e-6\n",
    "print(\"\\n Replication successful. No-arbitrage price = {:.2f}\".format(X0))"
   ]
  }
 ],
 "metadata": {
  "kernelspec": {
   "display_name": "Python 3 (ipykernel)",
   "language": "python",
   "name": "python3"
  },
  "language_info": {
   "codemirror_mode": {
    "name": "ipython",
    "version": 3
   },
   "file_extension": ".py",
   "mimetype": "text/x-python",
   "name": "python",
   "nbconvert_exporter": "python",
   "pygments_lexer": "ipython3",
   "version": "3.10.11"
  }
 },
 "nbformat": 4,
 "nbformat_minor": 5
}
